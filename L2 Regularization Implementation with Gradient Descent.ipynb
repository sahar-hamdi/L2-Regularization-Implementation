{
 "cells": [
  {
   "cell_type": "code",
   "execution_count": 1,
   "id": "76fa2fee",
   "metadata": {},
   "outputs": [],
   "source": [
    "import numpy as np\n",
    "import random\n",
    "import matplotlib.pyplot as plt"
   ]
  },
  {
   "cell_type": "code",
   "execution_count": 2,
   "id": "d343762e",
   "metadata": {},
   "outputs": [
    {
     "data": {
      "text/plain": [
       "<matplotlib.collections.PathCollection at 0x22ec2bd7670>"
      ]
     },
     "execution_count": 2,
     "metadata": {},
     "output_type": "execute_result"
    },
    {
     "data": {
      "image/png": "[encoded data removed]",
      "text/plain": [
       "<Figure size 432x288 with 1 Axes>"
      ]
     },
     "metadata": {
      "needs_background": "light"
     },
     "output_type": "display_data"
    }
   ],
   "source": [
    "x1=np.zeros((67,3))\n",
    "x1[:,0]=np.arange(-1,1,0.03)\n",
    "x1[:,1]=x1[:,0]**2\n",
    "x1[:,2]=x1[:,0]**3\n",
    "y1=x1[:,0]**3+x1[:,0]**2\n",
    "plt.scatter(x1[:,0],y1)"
   ]
  },
  {
   "cell_type": "code",
   "execution_count": 3,
   "id": "7a73fb1a",
   "metadata": {},
   "outputs": [
    {
     "data": {
      "text/plain": [
       "array([-2.19253545,  0.08247988,  1.58826522])"
      ]
     },
     "execution_count": 3,
     "metadata": {},
     "output_type": "execute_result"
    }
   ],
   "source": [
    "w_init = np.random.randn(3) \n",
    "w_init"
   ]
  },
  {
   "cell_type": "code",
   "execution_count": 4,
   "id": "44061e67",
   "metadata": {},
   "outputs": [],
   "source": [
    "\n",
    "def l2_grad(X, y, w, lambda_):\n",
    "    y_pred = np.dot(X,w)\n",
    "    mse_grad = np.dot(X.T,(y_pred-y))/ len(y)\n",
    "    l2_grad = 2 * lambda_ * w\n",
    "    return mse_grad + l2_grad"
   ]
  },
  {
   "cell_type": "code",
   "execution_count": 5,
   "id": "a94fd938",
   "metadata": {},
   "outputs": [],
   "source": [
    "\n",
    "def l2_update(X, y, w, lr, lambda_):\n",
    "    grad = l2_grad(X, y, w, lambda_)\n",
    "    w -= lr * grad\n",
    "    return w\n"
   ]
  },
  {
   "cell_type": "code",
   "execution_count": 6,
   "id": "74be57c1",
   "metadata": {},
   "outputs": [
    {
     "data": {
      "text/plain": [
       "array([0.07843703, 0.08858781, 0.05680312])"
      ]
     },
     "execution_count": 6,
     "metadata": {},
     "output_type": "execute_result"
    }
   ],
   "source": [
    "for i in range(1000):  \n",
    "    w=l2_update(x1,y1,w_init,0.01,1)\n",
    "y_pred=np.dot(w,x1.T)\n",
    "w"
   ]
  },
  {
   "cell_type": "code",
   "execution_count": 7,
   "id": "7a829410",
   "metadata": {},
   "outputs": [
    {
     "data": {
      "text/plain": [
       "[<matplotlib.lines.Line2D at 0x22ec2ceee20>]"
      ]
     },
     "execution_count": 7,
     "metadata": {},
     "output_type": "execute_result"
    },
    {
     "data": {
      "image/png": "[encoded data removed]",
      "text/plain": [
       "<Figure size 432x288 with 1 Axes>"
      ]
     },
     "metadata": {
      "needs_background": "light"
     },
     "output_type": "display_data"
    }
   ],
   "source": [
    "plt.scatter(x1[:,0],y1)\n",
    "plt.plot(x1[:,0],y_pred,c='r')"
   ]
  },
  {
   "cell_type": "code",
   "execution_count": null,
   "id": "616c5207",
   "metadata": {},
   "outputs": [],
   "source": []
  }
 ],
 "metadata": {
  "kernelspec": {
   "display_name": "Python 3 (ipykernel)",
   "language": "python",
   "name": "python3"
  },
  "language_info": {
   "codemirror_mode": {
    "name": "ipython",
    "version": 3
   },
   "file_extension": ".py",
   "mimetype": "text/x-python",
   "name": "python",
   "nbconvert_exporter": "python",
   "pygments_lexer": "ipython3",
   "version": "3.9.12"
  }
 },
 "nbformat": 4,
 "nbformat_minor": 5
}
